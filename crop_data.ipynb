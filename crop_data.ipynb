{
 "metadata": {
  "language_info": {
   "codemirror_mode": {
    "name": "ipython",
    "version": 3
   },
   "file_extension": ".py",
   "mimetype": "text/x-python",
   "name": "python",
   "nbconvert_exporter": "python",
   "pygments_lexer": "ipython3",
   "version": "3.8.3"
  },
  "orig_nbformat": 2,
  "kernelspec": {
   "name": "python383jvsc74a57bd085c15e2fd11ddf6f8f5917b197f257a455d4a542cdc5a8fe7d02a36f1aa3fc84",
   "display_name": "Python 3.8.3 64-bit ('3.8.3': pyenv)"
  },
  "metadata": {
   "interpreter": {
    "hash": "85c15e2fd11ddf6f8f5917b197f257a455d4a542cdc5a8fe7d02a36f1aa3fc84"
   }
  }
 },
 "nbformat": 4,
 "nbformat_minor": 2,
 "cells": [
  {
   "cell_type": "code",
   "execution_count": 1,
   "metadata": {
    "tags": []
   },
   "outputs": [
    {
     "output_type": "stream",
     "name": "stderr",
     "text": [
      "/Users/user/.pyenv/versions/3.8.3/lib/python3.8/site-packages/PIL/Image.py:962: UserWarning: Palette images with Transparency expressed in bytes should be converted to RGBA images\n",
      "  warnings.warn(\n",
      "/Users/user/.pyenv/versions/3.8.3/lib/python3.8/site-packages/PIL/TiffImagePlugin.py:771: UserWarning: Possibly corrupt EXIF data.  Expecting to read 53248 bytes but only got 14977. Skipping tag 37500\n",
      "  warnings.warn(\n",
      "/Users/user/.pyenv/versions/3.8.3/lib/python3.8/site-packages/PIL/TiffImagePlugin.py:771: UserWarning: Possibly corrupt EXIF data.  Expecting to read 8340 bytes but only got 7634. Skipping tag 37500\n",
      "  warnings.warn(\n",
      "/Users/user/.pyenv/versions/3.8.3/lib/python3.8/site-packages/PIL/TiffImagePlugin.py:771: UserWarning: Possibly corrupt EXIF data.  Expecting to read 264 bytes but only got 0. Skipping tag 37510\n",
      "  warnings.warn(\n",
      "/Users/user/.pyenv/versions/3.8.3/lib/python3.8/site-packages/PIL/TiffImagePlugin.py:771: UserWarning: Possibly corrupt EXIF data.  Expecting to read 8 bytes but only got 0. Skipping tag 41486\n",
      "  warnings.warn(\n",
      "/Users/user/.pyenv/versions/3.8.3/lib/python3.8/site-packages/PIL/TiffImagePlugin.py:771: UserWarning: Possibly corrupt EXIF data.  Expecting to read 8 bytes but only got 0. Skipping tag 41487\n",
      "  warnings.warn(\n",
      "/Users/user/.pyenv/versions/3.8.3/lib/python3.8/site-packages/PIL/TiffImagePlugin.py:771: UserWarning: Possibly corrupt EXIF data.  Expecting to read 8340 bytes but only got 7883. Skipping tag 37500\n",
      "  warnings.warn(\n",
      "/Users/user/.pyenv/versions/3.8.3/lib/python3.8/site-packages/PIL/TiffImagePlugin.py:771: UserWarning: Possibly corrupt EXIF data.  Expecting to read 3834 bytes but only got 3260. Skipping tag 37500\n",
      "  warnings.warn(\n",
      "/Users/user/.pyenv/versions/3.8.3/lib/python3.8/site-packages/PIL/TiffImagePlugin.py:771: UserWarning: Possibly corrupt EXIF data.  Expecting to read 3834 bytes but only got 3781. Skipping tag 37500\n",
      "  warnings.warn(\n",
      "/Users/user/.pyenv/versions/3.8.3/lib/python3.8/site-packages/PIL/TiffImagePlugin.py:771: UserWarning: Possibly corrupt EXIF data.  Expecting to read 53248 bytes but only got 6785. Skipping tag 37500\n",
      "  warnings.warn(\n"
     ]
    }
   ],
   "source": [
    "import os\n",
    "from PIL import Image\n",
    "from pathlib import Path \n",
    "\n",
    "\n",
    "flowers=[dirname for dirname in os.listdir('./plants/flower/') if not dirname.startswith('.')]\n",
    "\n",
    "for flower_idx,flower in enumerate(flowers):\n",
    "    output_folder=Path('./plants/flower/.crop_data/'+flowers[flower_idx]+'/')\n",
    "    output_folder.mkdir(exist_ok=True)\n",
    "    images=[image for image in os.listdir('./plants/flower/'+flowers[flower_idx]+'/') if not image.startswith('.')]\n",
    "    for image_idx in range(len(images)):\n",
    "        image=Image.open('./plants/flower/'+flowers[flower_idx]+'/'+images[image_idx])\n",
    "        image=image.convert('RGB')\n",
    "        W,H=image.size\n",
    "        if H<W:\n",
    "            image=image.crop(((W-H)//2,0,(W+H)//2,H))\n",
    "        elif H>W:\n",
    "            image=image.crop((0,(H-W)//2,W,(H+W)//2))\n",
    "        else:\n",
    "            pass\n",
    "        \n",
    "        image.save('./plants/flower/.crop_data/'+flowers[flower_idx]+'/croped_'+images[image_idx])"
   ]
  },
  {
   "cell_type": "code",
   "execution_count": 5,
   "metadata": {},
   "outputs": [
    {
     "output_type": "stream",
     "name": "stdout",
     "text": [
      "Similar image : ./plants/flower/.crop_data/.selected/コキア/croped_207.jpg ./plants/flower/.crop_data/.selected/コキア/croped_16.jpg\nSimilar image : ./plants/flower/.crop_data/.selected/コキア/croped_209.jpg ./plants/flower/.crop_data/.selected/コキア/croped_16.jpg\n"
     ]
    }
   ],
   "source": [
    "import os\n",
    "from PIL import Image\n",
    "import imagehash\n",
    "\n",
    "userpath = './plants/flower/.crop_data/.selected'  # 検索するパス\n",
    "\n",
    "flowers = [os.path.join(userpath, path) for path in os.listdir(userpath) if not path.startswith('.')]\n",
    "for flower in flowers:\n",
    "    image_files = []\n",
    "    f = [os.path.join(flower, path) for path in os.listdir(flower) if not path.startswith('.')]\n",
    "    for i in f:\n",
    "        if i.endswith('.jpg') or i.endswith('.png'):\n",
    "            image_files.append(i)\n",
    "\n",
    "    imgs = {}\n",
    "    for img in sorted(image_files):\n",
    "        hash = imagehash.average_hash(Image.open(img))\n",
    "        if hash in imgs:\n",
    "            print('Similar image :', img, imgs[hash])\n",
    "        else:\n",
    "            imgs[hash] = img"
   ]
  },
  {
   "cell_type": "code",
   "execution_count": null,
   "metadata": {},
   "outputs": [],
   "source": []
  }
 ]
}